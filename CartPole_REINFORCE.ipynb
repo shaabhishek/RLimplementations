{
  "nbformat": 4,
  "nbformat_minor": 0,
  "metadata": {
    "colab": {
      "name": "CartPole-REINFORCE.ipynb",
      "version": "0.3.2",
      "provenance": [],
      "collapsed_sections": [],
      "include_colab_link": true
    },
    "kernelspec": {
      "name": "python3",
      "display_name": "Python 3"
    }
  },
  "cells": [
    {
      "cell_type": "markdown",
      "metadata": {
        "id": "view-in-github",
        "colab_type": "text"
      },
      "source": [
        "[View in Colaboratory](https://colab.research.google.com/github/shaabhishek/RLimplementations/blob/master/CartPole_REINFORCE.ipynb)"
      ]
    },
    {
      "metadata": {
        "id": "3FozMKi2yo0H",
        "colab_type": "code",
        "colab": {
          "base_uri": "https://localhost:8080/",
          "height": 394
        },
        "outputId": "5dbc6133-d811-4d1e-e1d4-0124478abdbb"
      },
      "cell_type": "code",
      "source": [
        "# !pip install gym\n",
        "import gym\n",
        "env = gym.make('CartPole-v0')"
      ],
      "execution_count": 2,
      "outputs": [
        {
          "output_type": "stream",
          "text": [
            "Collecting gym\n",
            "\u001b[?25l  Downloading https://files.pythonhosted.org/packages/9b/50/ed4a03d2be47ffd043be2ee514f329ce45d98a30fe2d1b9c61dea5a9d861/gym-0.10.5.tar.gz (1.5MB)\n",
            "\u001b[K    100% |████████████████████████████████| 1.5MB 7.3MB/s \n",
            "\u001b[?25hRequirement already satisfied: numpy>=1.10.4 in /usr/local/lib/python3.6/dist-packages (from gym) (1.14.5)\n",
            "Requirement already satisfied: requests>=2.0 in /usr/local/lib/python3.6/dist-packages (from gym) (2.18.4)\n",
            "Requirement already satisfied: six in /usr/local/lib/python3.6/dist-packages (from gym) (1.11.0)\n",
            "Collecting pyglet>=1.2.0 (from gym)\n",
            "\u001b[?25l  Downloading https://files.pythonhosted.org/packages/1c/fc/dad5eaaab68f0c21e2f906a94ddb98175662cc5a654eee404d59554ce0fa/pyglet-1.3.2-py2.py3-none-any.whl (1.0MB)\n",
            "\u001b[K    100% |████████████████████████████████| 1.0MB 10.0MB/s \n",
            "\u001b[?25hRequirement already satisfied: idna<2.7,>=2.5 in /usr/local/lib/python3.6/dist-packages (from requests>=2.0->gym) (2.6)\n",
            "Requirement already satisfied: certifi>=2017.4.17 in /usr/local/lib/python3.6/dist-packages (from requests>=2.0->gym) (2018.4.16)\n",
            "Requirement already satisfied: urllib3<1.23,>=1.21.1 in /usr/local/lib/python3.6/dist-packages (from requests>=2.0->gym) (1.22)\n",
            "Requirement already satisfied: chardet<3.1.0,>=3.0.2 in /usr/local/lib/python3.6/dist-packages (from requests>=2.0->gym) (3.0.4)\n",
            "Requirement already satisfied: future in /usr/local/lib/python3.6/dist-packages (from pyglet>=1.2.0->gym) (0.16.0)\n",
            "Building wheels for collected packages: gym\n",
            "  Running setup.py bdist_wheel for gym ... \u001b[?25l-\b \b\\\b \b|\b \b/\b \bdone\n",
            "\u001b[?25h  Stored in directory: /content/.cache/pip/wheels/cb/14/71/f4ab006b1e6ff75c2b54985c2f98d0644fffe9c1dddc670925\n",
            "Successfully built gym\n",
            "Installing collected packages: pyglet, gym\n",
            "Successfully installed gym-0.10.5 pyglet-1.3.2\n",
            "\u001b[33mWARN: gym.spaces.Box autodetected dtype as <class 'numpy.float32'>. Please provide explicit dtype.\u001b[0m\n"
          ],
          "name": "stdout"
        }
      ]
    },
    {
      "metadata": {
        "id": "BWBUTgYzywO6",
        "colab_type": "code",
        "colab": {
          "base_uri": "https://localhost:8080/",
          "height": 34
        },
        "outputId": "30d1f012-bb50-4171-e51c-f78398aa1953"
      },
      "cell_type": "code",
      "source": [
        "import numpy as np\n",
        "import random\n",
        "import tensorflow as tf\n",
        "tf.enable_eager_execution()\n",
        "\n",
        "seed_val = 111\n",
        "np.random.seed(seed_val)\n",
        "random.seed(seed_val+1)\n",
        "tf.set_random_seed(seed_val+2)\n",
        "env.seed(seed_val+3)"
      ],
      "execution_count": 3,
      "outputs": [
        {
          "output_type": "execute_result",
          "data": {
            "text/plain": [
              "[114]"
            ]
          },
          "metadata": {
            "tags": []
          },
          "execution_count": 3
        }
      ]
    },
    {
      "metadata": {
        "id": "iOlDQmtCy63D",
        "colab_type": "code",
        "colab": {
          "base_uri": "https://localhost:8080/",
          "height": 34
        },
        "outputId": "c8e37953-d667-4591-a026-23e0f1dcc504"
      },
      "cell_type": "code",
      "source": [
        "from collections import deque\n",
        "from keras.models import clone_model\n",
        "# from keras.utils import to_categorical\n",
        "from keras import optimizers"
      ],
      "execution_count": 4,
      "outputs": [
        {
          "output_type": "stream",
          "text": [
            "Using TensorFlow backend.\n"
          ],
          "name": "stderr"
        }
      ]
    },
    {
      "metadata": {
        "id": "0HmNE7fB4J5h",
        "colab_type": "code",
        "colab": {}
      },
      "cell_type": "code",
      "source": [
        "def preprocess(img):\n",
        "    return np.reshape(img, (1,4))\n"
      ],
      "execution_count": 0,
      "outputs": []
    },
    {
      "metadata": {
        "id": "m9B56xqm1Xkv",
        "colab_type": "code",
        "colab": {}
      },
      "cell_type": "code",
      "source": [
        "N_ACTIONS = env.action_space.n\n",
        "DIM_STATES = env.observation_space.shape[0]\n",
        "N_EPISODES = 100\n",
        "BATCH_SIZE = 500\n",
        "TIMESTEP_LIMIT = env.spec.timestep_limit\n",
        "discount_factor = 0.99"
      ],
      "execution_count": 0,
      "outputs": []
    },
    {
      "metadata": {
        "id": "AszHRv8SzCh6",
        "colab_type": "code",
        "colab": {}
      },
      "cell_type": "code",
      "source": [
        "class PolicyEstimator():\n",
        "  \"\"\"\n",
        "  Policy Function Approximation\n",
        "  \"\"\"\n",
        "  def __init__(self, learning_rate = 0.1):\n",
        "    self.learning_rate = learning_rate\n",
        "    self.pi = self._build_model()\n",
        "    self.grad_init = [tf.zeros_like(theta) for theta in self.pi.get_weights()]\n",
        "  \n",
        "  def _build_model(self):\n",
        "    model = tf.keras.Sequential([\n",
        "#         tf.keras.layers.Dense(16, input_shape=(4,), activation='relu'),\n",
        "#         tf.keras.layers.Dense(16, activation='relu'),\n",
        "        tf.keras.layers.Dense(N_ACTIONS, input_shape=(4,), activation='linear', use_bias=True)\n",
        "    ])\n",
        "    self.optimizer = tf.train.GradientDescentOptimizer(learning_rate=self.learning_rate)\n",
        "#     model.add()\n",
        "#     model.add(Dense(32, activation='relu'))\n",
        "#     model.add()\n",
        "#     model.compile(optimizers.Adam(lr=self.learning_rate), loss='categorical_crossentropy')\n",
        "    return model\n",
        "  \n",
        "  def logpi(self, states):\n",
        "    predictions = self.pi(states)\n",
        "    return tf.log(predictions)\n",
        "  \n",
        "  def select_action(self, state):\n",
        "    prob_dist = tf.squeeze(tf.nn.softmax(pi_model.pi(state))).numpy()\n",
        "    return np.random.choice([0,1], p=prob_dist)\n",
        "#     return np.argmax(self.pi(cur_state))\n",
        "  \n",
        "  def loss(self, state, action, advantage):\n",
        "    # negative loss because we're maximizing\n",
        "    ## picking the log_probability corresponding to the action taken and\n",
        "    ## scaling it by 'advantage'\n",
        "    pi = tf.nn.softmax(self.pi(state))\n",
        "    action_one_hot = np.zeros_like(pi)\n",
        "    action_one_hot[0,action] = 1\n",
        "#     loss_val = -tf.nn.l2_loss(pi - action_one_hot) * advantage\n",
        "    return -tf.gather(tf.squeeze(tf.log(pi)), action)*advantage\n",
        "#     return loss_val\n",
        "  \n",
        "  def compute_gradient(self, state, action, advantage):\n",
        "    \"\"\"\n",
        "    Compute the gradient at time t\n",
        "    :param inputs: the state for which pi will be calculated, shape 1 x |S|\n",
        "\n",
        "    :return list of Gradient tensors with length = count(weights)+ count(biases)\n",
        "    \"\"\"\n",
        "    with tf.GradientTape() as tape:\n",
        "      loss_val = self.loss(state, action, advantage)\n",
        "    return tape.gradient(loss_val, self.pi.variables)\n",
        "  \n",
        "  def apply_gradient(self, grads):\n",
        "    \"\"\"\"\"\"\n",
        "    self.optimizer.apply_gradients(zip(grads, self.pi.variables),\n",
        "                                   global_step=tf.train.get_or_create_global_step())\n",
        "\n",
        "\n",
        "pi_model = PolicyEstimator()"
      ],
      "execution_count": 0,
      "outputs": []
    },
    {
      "metadata": {
        "id": "hZHtH17H2s4p",
        "colab_type": "code",
        "colab": {
          "base_uri": "https://localhost:8080/",
          "height": 561
        },
        "outputId": "72b3cb0d-34ff-4482-e58d-2922747ad501"
      },
      "cell_type": "code",
      "source": [
        "pi_model = PolicyEstimator()\n",
        "avg_rewards = []\n",
        "for episode in range(1,N_EPISODES+1):\n",
        "  \n",
        "  episode_rewards = []\n",
        "  # copy zero initialized list by value\n",
        "  grad = pi_model.grad_init[:]\n",
        "  all_returns = np.zeros((BATCH_SIZE, TIMESTEP_LIMIT))\n",
        "  rewards = [[] for _ in range(BATCH_SIZE)]\n",
        "  states = [[] for _ in range(BATCH_SIZE)]\n",
        "  actions = [[] for _ in range(BATCH_SIZE)]\n",
        "  \n",
        "  for roll_i in range(BATCH_SIZE):\n",
        "    done = False\n",
        "    cur_state = preprocess(env.reset())\n",
        "    for t in range(TIMESTEP_LIMIT):\n",
        "      action = pi_model.select_action(cur_state)\n",
        "      next_state, reward, done, info = env.step(action)\n",
        "      next_state = preprocess(next_state)\n",
        "      states[roll_i].append(cur_state)\n",
        "      actions[roll_i].append(action)\n",
        "      rewards[roll_i].append(reward)\n",
        "      cur_state = next_state\n",
        "      if done:\n",
        "        episode_rewards.append(np.sum(rewards[roll_i]))\n",
        "        for t_ in range(len(rewards[roll_i])):\n",
        "          all_returns[roll_i,t_] = sum([discount_factor**ix * reward for ix, reward in enumerate(rewards[roll_i][t_:])])\n",
        "        break\n",
        "      \n",
        "  baselines = np.mean(all_returns, axis=0)\n",
        "  advantages = all_returns - baselines\n",
        "  for roll_i in range(BATCH_SIZE):\n",
        "    for t in range(len(states[roll_i])):\n",
        "#       pi_model.optimizer.minimize(loss=lambda: pi_model.loss(states[roll_i][t], actions[roll_i][t], advantages[roll_i,t]),\n",
        "#                                   global_step=tf.train.get_or_create_global_step())\n",
        "      grad_t = pi_model.compute_gradient(states[roll_i][t], actions[roll_i][t], advantages[roll_i][t])\n",
        "      # grad_t is a list of weights and biases, so do element-wise summation\n",
        "      grad = [grad[i] + grad_t[i] for i in range(len(grad))]\n",
        "  \n",
        "  grad = [g_i/(np.linalg.norm(g_i)+1e-8) for g_i in grad]\n",
        "  pi_model.apply_gradient(grad)  \n",
        "  \n",
        "  avg_rewards.append(np.mean(episode_rewards))\n",
        "  if episode%1 == 0: print(\"Episode:{}, Avg Rewards:{}, Norm of Weights:{}\".format(episode,\n",
        "                                                                                   avg_rewards[-1],\n",
        "                                                                                   np.linalg.norm(pi_model.pi.get_weights()[0])))"
      ],
      "execution_count": 0,
      "outputs": [
        {
          "output_type": "stream",
          "text": [
            "Episode:1, Avg Rewards:25.162, Norm of Weights:1.5878430604934692\n",
            "Episode:2, Avg Rewards:27.798, Norm of Weights:1.6049604415893555\n",
            "Episode:3, Avg Rewards:30.01, Norm of Weights:1.627303957939148\n",
            "Episode:4, Avg Rewards:31.922, Norm of Weights:1.6565604209899902\n",
            "Episode:5, Avg Rewards:37.066, Norm of Weights:1.6891424655914307\n",
            "Episode:6, Avg Rewards:37.67, Norm of Weights:1.7277172803878784\n",
            "Episode:7, Avg Rewards:41.548, Norm of Weights:1.7725930213928223\n",
            "Episode:8, Avg Rewards:44.266, Norm of Weights:1.822339653968811\n",
            "Episode:9, Avg Rewards:46.798, Norm of Weights:1.8754993677139282\n",
            "Episode:10, Avg Rewards:50.162, Norm of Weights:1.929956078529358\n",
            "Episode:11, Avg Rewards:53.956, Norm of Weights:1.9870491027832031\n",
            "Episode:12, Avg Rewards:55.848, Norm of Weights:2.0465879440307617\n",
            "Episode:13, Avg Rewards:62.462, Norm of Weights:2.102196216583252\n",
            "Episode:14, Avg Rewards:62.948, Norm of Weights:2.1617085933685303\n",
            "Episode:15, Avg Rewards:74.8, Norm of Weights:2.223052978515625\n",
            "Episode:16, Avg Rewards:70.48, Norm of Weights:2.285977840423584\n",
            "Episode:17, Avg Rewards:74.334, Norm of Weights:2.3496994972229004\n",
            "Episode:18, Avg Rewards:76.394, Norm of Weights:2.415808916091919\n",
            "Episode:19, Avg Rewards:89.972, Norm of Weights:2.478705644607544\n",
            "Episode:20, Avg Rewards:87.618, Norm of Weights:2.5433437824249268\n",
            "Episode:21, Avg Rewards:100.808, Norm of Weights:2.5990986824035645\n",
            "Episode:22, Avg Rewards:99.428, Norm of Weights:2.663463592529297\n",
            "Episode:23, Avg Rewards:101.724, Norm of Weights:2.73166823387146\n",
            "Episode:24, Avg Rewards:106.418, Norm of Weights:2.7881665229797363\n",
            "Episode:25, Avg Rewards:114.528, Norm of Weights:2.844151496887207\n",
            "Episode:26, Avg Rewards:114.176, Norm of Weights:2.904262065887451\n",
            "Episode:27, Avg Rewards:125.628, Norm of Weights:2.951188802719116\n",
            "Episode:28, Avg Rewards:121.044, Norm of Weights:3.0129880905151367\n",
            "Episode:29, Avg Rewards:141.888, Norm of Weights:3.0545265674591064\n",
            "Episode:30, Avg Rewards:132.502, Norm of Weights:3.113215446472168\n",
            "Episode:31, Avg Rewards:153.712, Norm of Weights:3.1588704586029053\n",
            "Episode:32, Avg Rewards:148.82, Norm of Weights:3.212052822113037\n"
          ],
          "name": "stdout"
        }
      ]
    },
    {
      "metadata": {
        "id": "q3aKm7iv9oKR",
        "colab_type": "code",
        "colab": {
          "base_uri": "https://localhost:8080/",
          "height": 282
        },
        "outputId": "b909d880-9723-43e5-d1f3-d10c7ce17ac3"
      },
      "cell_type": "code",
      "source": [
        "# import matplotlib.pyplot as plt\n",
        "# %matplotlib inline\n",
        "plt.plot(avg_rewards)\n"
      ],
      "execution_count": 86,
      "outputs": [
        {
          "output_type": "execute_result",
          "data": {
            "text/plain": [
              "[<matplotlib.lines.Line2D at 0x7f0c472db588>]"
            ]
          },
          "metadata": {
            "tags": []
          },
          "execution_count": 86
        },
        {
          "output_type": "display_data",
          "data": {
            "image/png": "[encoded data removed]",
            "text/plain": [
              "<matplotlib.figure.Figure at 0x7f0c46fc5198>"
            ]
          },
          "metadata": {
            "tags": []
          }
        }
      ]
    },
    {
      "metadata": {
        "id": "GBJ_dCP-Lr6f",
        "colab_type": "code",
        "colab": {}
      },
      "cell_type": "code",
      "source": [
        ""
      ],
      "execution_count": 0,
      "outputs": []
    }
  ]
}