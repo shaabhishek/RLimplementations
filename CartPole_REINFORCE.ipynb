{
  "nbformat": 4,
  "nbformat_minor": 0,
  "metadata": {
    "colab": {
      "name": "CartPole-REINFORCE.ipynb",
      "version": "0.3.2",
      "provenance": [],
      "collapsed_sections": []
    },
    "kernelspec": {
      "name": "python3",
      "display_name": "Python 3"
    }
  },
  "cells": [
    {
      "metadata": {
        "id": "3FozMKi2yo0H",
        "colab_type": "code",
        "colab": {
          "base_uri": "https://localhost:8080/",
          "height": 394
        },
        "outputId": "a6928c67-6cf4-49be-f00d-3a53c1d26ab1"
      },
      "cell_type": "code",
      "source": [
        "# !pip install gym\n",
        "import gym\n",
        "env = gym.make('CartPole-v0')"
      ],
      "execution_count": 2,
      "outputs": [
        {
          "output_type": "stream",
          "text": [
            "Collecting gym\n",
            "\u001b[?25l  Downloading https://files.pythonhosted.org/packages/9b/50/ed4a03d2be47ffd043be2ee514f329ce45d98a30fe2d1b9c61dea5a9d861/gym-0.10.5.tar.gz (1.5MB)\n",
            "\u001b[K    100% |████████████████████████████████| 1.5MB 10.7MB/s \n",
            "\u001b[?25hRequirement already satisfied: numpy>=1.10.4 in /usr/local/lib/python3.6/dist-packages (from gym) (1.14.5)\n",
            "Requirement already satisfied: requests>=2.0 in /usr/local/lib/python3.6/dist-packages (from gym) (2.18.4)\n",
            "Requirement already satisfied: six in /usr/local/lib/python3.6/dist-packages (from gym) (1.11.0)\n",
            "Collecting pyglet>=1.2.0 (from gym)\n",
            "\u001b[?25l  Downloading https://files.pythonhosted.org/packages/1c/fc/dad5eaaab68f0c21e2f906a94ddb98175662cc5a654eee404d59554ce0fa/pyglet-1.3.2-py2.py3-none-any.whl (1.0MB)\n",
            "\u001b[K    100% |████████████████████████████████| 1.0MB 12.9MB/s \n",
            "\u001b[?25hRequirement already satisfied: idna<2.7,>=2.5 in /usr/local/lib/python3.6/dist-packages (from requests>=2.0->gym) (2.6)\n",
            "Requirement already satisfied: chardet<3.1.0,>=3.0.2 in /usr/local/lib/python3.6/dist-packages (from requests>=2.0->gym) (3.0.4)\n",
            "Requirement already satisfied: certifi>=2017.4.17 in /usr/local/lib/python3.6/dist-packages (from requests>=2.0->gym) (2018.4.16)\n",
            "Requirement already satisfied: urllib3<1.23,>=1.21.1 in /usr/local/lib/python3.6/dist-packages (from requests>=2.0->gym) (1.22)\n",
            "Requirement already satisfied: future in /usr/local/lib/python3.6/dist-packages (from pyglet>=1.2.0->gym) (0.16.0)\n",
            "Building wheels for collected packages: gym\n",
            "  Running setup.py bdist_wheel for gym ... \u001b[?25l-\b \b\\\b \b|\b \b/\b \bdone\n",
            "\u001b[?25h  Stored in directory: /content/.cache/pip/wheels/cb/14/71/f4ab006b1e6ff75c2b54985c2f98d0644fffe9c1dddc670925\n",
            "Successfully built gym\n",
            "Installing collected packages: pyglet, gym\n",
            "Successfully installed gym-0.10.5 pyglet-1.3.2\n",
            "\u001b[33mWARN: gym.spaces.Box autodetected dtype as <class 'numpy.float32'>. Please provide explicit dtype.\u001b[0m\n"
          ],
          "name": "stdout"
        }
      ]
    },
    {
      "metadata": {
        "id": "BWBUTgYzywO6",
        "colab_type": "code",
        "colab": {
          "base_uri": "https://localhost:8080/",
          "height": 34
        },
        "outputId": "19275ac0-f8e0-4ec4-c5d5-fcb3ee77f57a"
      },
      "cell_type": "code",
      "source": [
        "import numpy as np\n",
        "import random\n",
        "import tensorflow as tf\n",
        "tf.enable_eager_execution()\n",
        "\n",
        "seed_val = 111\n",
        "np.random.seed(seed_val)\n",
        "random.seed(seed_val+1)\n",
        "tf.set_random_seed(seed_val+2)\n",
        "env.seed(seed_val+3)"
      ],
      "execution_count": 3,
      "outputs": [
        {
          "output_type": "execute_result",
          "data": {
            "text/plain": [
              "[114]"
            ]
          },
          "metadata": {
            "tags": []
          },
          "execution_count": 3
        }
      ]
    },
    {
      "metadata": {
        "id": "iOlDQmtCy63D",
        "colab_type": "code",
        "colab": {
          "base_uri": "https://localhost:8080/",
          "height": 34
        },
        "outputId": "336e8450-f27b-43b7-cf27-b6abdb3e93aa"
      },
      "cell_type": "code",
      "source": [
        "from collections import deque\n",
        "from keras.models import clone_model\n",
        "# from keras.utils import to_categorical\n",
        "from keras import optimizers"
      ],
      "execution_count": 4,
      "outputs": [
        {
          "output_type": "stream",
          "text": [
            "Using TensorFlow backend.\n"
          ],
          "name": "stderr"
        }
      ]
    },
    {
      "metadata": {
        "id": "0HmNE7fB4J5h",
        "colab_type": "code",
        "colab": {}
      },
      "cell_type": "code",
      "source": [
        "def preprocess(img):\n",
        "    return np.reshape(img, (1,4))\n"
      ],
      "execution_count": 0,
      "outputs": []
    },
    {
      "metadata": {
        "id": "AszHRv8SzCh6",
        "colab_type": "code",
        "colab": {}
      },
      "cell_type": "code",
      "source": [
        "class PolicyEstimator():\n",
        "  \"\"\"\n",
        "  Policy Function Approximation\n",
        "  \"\"\"\n",
        "  def __init__(self, learning_rate = 0.1):\n",
        "    self.learning_rate = learning_rate\n",
        "    self.pi = self._build_model()\n",
        "    self.grad_init = [tf.zeros_like(theta) for theta in self.pi.get_weights()]\n",
        "  \n",
        "  def _build_model(self):\n",
        "    model = tf.keras.Sequential([\n",
        "#         tf.keras.layers.Dense(16, input_shape=(4,), activation='relu'),\n",
        "#         tf.keras.layers.Dense(16, activation='relu'),\n",
        "        tf.keras.layers.Dense(N_ACTIONS, input_shape=(4,), activation='linear', use_bias=True)\n",
        "    ])\n",
        "    self.optimizer = tf.train.GradientDescentOptimizer(learning_rate=self.learning_rate)\n",
        "#     model.add()\n",
        "#     model.add(Dense(32, activation='relu'))\n",
        "#     model.add()\n",
        "#     model.compile(optimizers.Adam(lr=self.learning_rate), loss='categorical_crossentropy')\n",
        "    return model\n",
        "  \n",
        "  def logpi(self, states):\n",
        "    predictions = self.pi(states)\n",
        "    return tf.log(predictions)\n",
        "  \n",
        "  def select_action(self, state):\n",
        "    prob_dist = tf.squeeze(tf.nn.softmax(pi_model.pi(state))).numpy()\n",
        "    return np.random.choice([0,1], p=prob_dist)\n",
        "#     return np.argmax(self.pi(cur_state))\n",
        "  \n",
        "  def loss(self, state, action, advantage):\n",
        "    # negative loss because we're maximizing\n",
        "    ## picking the log_probability corresponding to the action taken and\n",
        "    ## scaling it by 'advantage'\n",
        "    pi = tf.nn.softmax(self.pi(state))\n",
        "    action_one_hot = np.zeros_like(pi)\n",
        "    action_one_hot[0,action] = 1\n",
        "#     loss_val = -tf.nn.l2_loss(pi - action_one_hot) * advantage\n",
        "    return -tf.gather(tf.squeeze(tf.log(pi)), action)*advantage\n",
        "#     return loss_val\n",
        "  \n",
        "  def compute_gradient(self, state, action, advantage):\n",
        "    \"\"\"\n",
        "    Compute the gradient at time t\n",
        "    :param state: the state for which pi will be calculated, shape 1 x |S|\n",
        "    :param action: action taken. \n",
        "    :return list of Gradient tensors with length = count(weights)+ count(biases)\n",
        "    \"\"\"\n",
        "    with tf.GradientTape() as tape:\n",
        "      loss_val = self.loss(state, action, advantage)\n",
        "    return tape.gradient(loss_val, self.pi.variables)\n",
        "  \n",
        "  def apply_gradient(self, grads):\n",
        "    \"\"\"\"\"\"\n",
        "    self.optimizer.apply_gradients(zip(grads, self.pi.variables),\n",
        "                                   global_step=tf.train.get_or_create_global_step())\n",
        "\n",
        "\n",
        "pi_model = PolicyEstimator()"
      ],
      "execution_count": 0,
      "outputs": []
    },
    {
      "metadata": {
        "id": "m9B56xqm1Xkv",
        "colab_type": "code",
        "colab": {}
      },
      "cell_type": "code",
      "source": [
        "N_ACTIONS = env.action_space.n\n",
        "DIM_STATES = env.observation_space.shape[0]\n",
        "N_EPISODES = 100\n",
        "BATCH_SIZE = 50\n",
        "TIMESTEP_LIMIT = env.spec.timestep_limit\n",
        "discount_factor = 0.99"
      ],
      "execution_count": 0,
      "outputs": []
    },
    {
      "metadata": {
        "id": "hZHtH17H2s4p",
        "colab_type": "code",
        "colab": {
          "base_uri": "https://localhost:8080/",
          "height": 1717
        },
        "outputId": "6a266fed-5023-4fca-eeb7-21ee89aab5dd"
      },
      "cell_type": "code",
      "source": [
        "pi_model = PolicyEstimator()\n",
        "avg_rewards = []\n",
        "for episode in range(1,N_EPISODES+1):\n",
        "  \n",
        "  episode_rewards = []\n",
        "  # copy zero initialized list by value\n",
        "  grad = pi_model.grad_init[:]\n",
        "  all_returns = np.zeros((BATCH_SIZE, TIMESTEP_LIMIT))\n",
        "  rewards = [[] for _ in range(BATCH_SIZE)]\n",
        "  states = [[] for _ in range(BATCH_SIZE)]\n",
        "  actions = [[] for _ in range(BATCH_SIZE)]\n",
        "  \n",
        "  for roll_i in range(BATCH_SIZE):\n",
        "    done = False\n",
        "    cur_state = preprocess(env.reset())\n",
        "    for t in range(TIMESTEP_LIMIT):\n",
        "      action = pi_model.select_action(cur_state)\n",
        "      next_state, reward, done, info = env.step(action)\n",
        "      next_state = preprocess(next_state)\n",
        "      states[roll_i].append(cur_state)\n",
        "      actions[roll_i].append(action)\n",
        "      rewards[roll_i].append(reward)\n",
        "      cur_state = next_state\n",
        "      if done:\n",
        "        episode_rewards.append(np.sum(rewards[roll_i]))\n",
        "        for t_ in range(len(rewards[roll_i])):\n",
        "          all_returns[roll_i,t_] = sum([discount_factor**ix * reward for ix, reward in enumerate(rewards[roll_i][t_:])])\n",
        "        break\n",
        "      \n",
        "  baselines = np.mean(all_returns, axis=0)\n",
        "  advantages = all_returns - baselines\n",
        "  for roll_i in range(BATCH_SIZE):\n",
        "    for t in range(len(states[roll_i])):\n",
        "#       pi_model.optimizer.minimize(loss=lambda: pi_model.loss(states[roll_i][t], actions[roll_i][t], advantages[roll_i,t]),\n",
        "#                                   global_step=tf.train.get_or_create_global_step())\n",
        "      grad_t = pi_model.compute_gradient(states[roll_i][t], actions[roll_i][t], advantages[roll_i][t])\n",
        "      # grad_t is a list of weights and biases, so do element-wise summation\n",
        "      grad = [grad[i] + grad_t[i] for i in range(len(grad))]\n",
        "  \n",
        "  grad = [g_i/(np.linalg.norm(g_i)+1e-8) for g_i in grad]\n",
        "  pi_model.apply_gradient(grad)  \n",
        "  \n",
        "  avg_rewards.append(np.mean(episode_rewards))\n",
        "  if episode%1 == 0: print(\"Episode:{}, Avg Rewards:{}, Norm of Weights:{}\".format(episode,\n",
        "                                                                                   avg_rewards[-1],\n",
        "                                                                                   np.linalg.norm(pi_model.pi.get_weights()[0])))"
      ],
      "execution_count": 8,
      "outputs": [
        {
          "output_type": "stream",
          "text": [
            "Episode:1, Avg Rewards:20.78, Norm of Weights:1.5236045122146606\n",
            "Episode:2, Avg Rewards:23.74, Norm of Weights:1.5349736213684082\n",
            "Episode:3, Avg Rewards:25.7, Norm of Weights:1.5531269311904907\n",
            "Episode:4, Avg Rewards:27.64, Norm of Weights:1.5688601732254028\n",
            "Episode:5, Avg Rewards:29.24, Norm of Weights:1.5971754789352417\n",
            "Episode:6, Avg Rewards:28.58, Norm of Weights:1.62785804271698\n",
            "Episode:7, Avg Rewards:34.8, Norm of Weights:1.6678096055984497\n",
            "Episode:8, Avg Rewards:37.1, Norm of Weights:1.7015941143035889\n",
            "Episode:9, Avg Rewards:38.1, Norm of Weights:1.7438633441925049\n",
            "Episode:10, Avg Rewards:43.76, Norm of Weights:1.785717487335205\n",
            "Episode:11, Avg Rewards:43.84, Norm of Weights:1.834344506263733\n",
            "Episode:12, Avg Rewards:50.02, Norm of Weights:1.8535699844360352\n",
            "Episode:13, Avg Rewards:51.96, Norm of Weights:1.904306173324585\n",
            "Episode:14, Avg Rewards:50.62, Norm of Weights:1.9506417512893677\n",
            "Episode:15, Avg Rewards:57.02, Norm of Weights:2.000485897064209\n",
            "Episode:16, Avg Rewards:54.16, Norm of Weights:2.0354421138763428\n",
            "Episode:17, Avg Rewards:54.18, Norm of Weights:2.089815139770508\n",
            "Episode:18, Avg Rewards:45.16, Norm of Weights:2.156977415084839\n",
            "Episode:19, Avg Rewards:64.04, Norm of Weights:2.191673755645752\n",
            "Episode:20, Avg Rewards:62.9, Norm of Weights:2.259404420852661\n",
            "Episode:21, Avg Rewards:76.22, Norm of Weights:2.2932822704315186\n",
            "Episode:22, Avg Rewards:60.48, Norm of Weights:2.35858416557312\n",
            "Episode:23, Avg Rewards:71.36, Norm of Weights:2.376784086227417\n",
            "Episode:24, Avg Rewards:70.5, Norm of Weights:2.4201643466949463\n",
            "Episode:25, Avg Rewards:82.12, Norm of Weights:2.433912992477417\n",
            "Episode:26, Avg Rewards:69.9, Norm of Weights:2.4935097694396973\n",
            "Episode:27, Avg Rewards:95.9, Norm of Weights:2.5655128955841064\n",
            "Episode:28, Avg Rewards:103.78, Norm of Weights:2.614626169204712\n",
            "Episode:29, Avg Rewards:118.04, Norm of Weights:2.6506099700927734\n",
            "Episode:30, Avg Rewards:106.96, Norm of Weights:2.7116892337799072\n",
            "Episode:31, Avg Rewards:112.62, Norm of Weights:2.7671875953674316\n",
            "Episode:32, Avg Rewards:111.12, Norm of Weights:2.8184337615966797\n",
            "Episode:33, Avg Rewards:125.02, Norm of Weights:2.8602099418640137\n",
            "Episode:34, Avg Rewards:109.54, Norm of Weights:2.9343817234039307\n",
            "Episode:35, Avg Rewards:139.98, Norm of Weights:2.9631993770599365\n",
            "Episode:36, Avg Rewards:127.14, Norm of Weights:3.01900315284729\n",
            "Episode:37, Avg Rewards:146.32, Norm of Weights:3.0862200260162354\n",
            "Episode:38, Avg Rewards:158.48, Norm of Weights:3.152167797088623\n",
            "Episode:39, Avg Rewards:145.28, Norm of Weights:3.1854476928710938\n",
            "Episode:40, Avg Rewards:155.04, Norm of Weights:3.2513070106506348\n",
            "Episode:41, Avg Rewards:154.68, Norm of Weights:3.2942280769348145\n",
            "Episode:42, Avg Rewards:153.22, Norm of Weights:3.3204123973846436\n",
            "Episode:43, Avg Rewards:168.84, Norm of Weights:3.4101390838623047\n",
            "Episode:44, Avg Rewards:153.46, Norm of Weights:3.467034101486206\n",
            "Episode:45, Avg Rewards:170.38, Norm of Weights:3.535553216934204\n",
            "Episode:46, Avg Rewards:165.3, Norm of Weights:3.576362371444702\n",
            "Episode:47, Avg Rewards:164.08, Norm of Weights:3.605048179626465\n",
            "Episode:48, Avg Rewards:167.14, Norm of Weights:3.6925809383392334\n",
            "Episode:49, Avg Rewards:176.62, Norm of Weights:3.712343692779541\n",
            "Episode:50, Avg Rewards:177.2, Norm of Weights:3.749206781387329\n",
            "Episode:51, Avg Rewards:178.42, Norm of Weights:3.8037641048431396\n",
            "Episode:52, Avg Rewards:184.28, Norm of Weights:3.8189542293548584\n",
            "Episode:53, Avg Rewards:184.02, Norm of Weights:3.870382070541382\n",
            "Episode:54, Avg Rewards:187.0, Norm of Weights:3.893019676208496\n"
          ],
          "name": "stdout"
        },
        {
          "output_type": "stream",
          "text": [
            "Episode:55, Avg Rewards:180.68, Norm of Weights:3.911524772644043\n",
            "Episode:56, Avg Rewards:168.04, Norm of Weights:3.940871238708496\n",
            "Episode:57, Avg Rewards:185.26, Norm of Weights:3.9953434467315674\n",
            "Episode:58, Avg Rewards:180.06, Norm of Weights:4.038073539733887\n",
            "Episode:59, Avg Rewards:181.44, Norm of Weights:4.076930999755859\n",
            "Episode:60, Avg Rewards:188.24, Norm of Weights:4.1455183029174805\n",
            "Episode:61, Avg Rewards:196.16, Norm of Weights:4.158299446105957\n",
            "Episode:62, Avg Rewards:184.02, Norm of Weights:4.214580535888672\n",
            "Episode:63, Avg Rewards:188.6, Norm of Weights:4.232759475708008\n",
            "Episode:64, Avg Rewards:187.72, Norm of Weights:4.241074562072754\n",
            "Episode:65, Avg Rewards:194.2, Norm of Weights:4.266402721405029\n",
            "Episode:66, Avg Rewards:185.5, Norm of Weights:4.285506248474121\n",
            "Episode:67, Avg Rewards:191.34, Norm of Weights:4.308255195617676\n",
            "Episode:68, Avg Rewards:185.78, Norm of Weights:4.390329360961914\n",
            "Episode:69, Avg Rewards:194.48, Norm of Weights:4.398716449737549\n",
            "Episode:70, Avg Rewards:189.4, Norm of Weights:4.42767858505249\n",
            "Episode:71, Avg Rewards:190.58, Norm of Weights:4.4611897468566895\n",
            "Episode:72, Avg Rewards:191.38, Norm of Weights:4.47698450088501\n",
            "Episode:73, Avg Rewards:190.82, Norm of Weights:4.507852077484131\n",
            "Episode:74, Avg Rewards:190.38, Norm of Weights:4.531757831573486\n",
            "Episode:75, Avg Rewards:189.74, Norm of Weights:4.55814266204834\n",
            "Episode:76, Avg Rewards:192.58, Norm of Weights:4.597567081451416\n",
            "Episode:77, Avg Rewards:191.64, Norm of Weights:4.616163730621338\n",
            "Episode:78, Avg Rewards:193.8, Norm of Weights:4.639337062835693\n",
            "Episode:79, Avg Rewards:176.08, Norm of Weights:4.679293155670166\n",
            "Episode:80, Avg Rewards:194.84, Norm of Weights:4.6811370849609375\n",
            "Episode:81, Avg Rewards:194.0, Norm of Weights:4.697765350341797\n",
            "Episode:82, Avg Rewards:197.78, Norm of Weights:4.712926864624023\n",
            "Episode:83, Avg Rewards:192.64, Norm of Weights:4.722588539123535\n",
            "Episode:84, Avg Rewards:196.26, Norm of Weights:4.7537641525268555\n",
            "Episode:85, Avg Rewards:195.6, Norm of Weights:4.765738487243652\n",
            "Episode:86, Avg Rewards:194.72, Norm of Weights:4.815548419952393\n",
            "Episode:87, Avg Rewards:196.32, Norm of Weights:4.8363752365112305\n",
            "Episode:88, Avg Rewards:195.36, Norm of Weights:4.846104145050049\n",
            "Episode:89, Avg Rewards:194.62, Norm of Weights:4.865153789520264\n",
            "Episode:90, Avg Rewards:198.58, Norm of Weights:4.875383377075195\n",
            "Episode:91, Avg Rewards:196.52, Norm of Weights:4.901600360870361\n",
            "Episode:92, Avg Rewards:195.44, Norm of Weights:4.9188432693481445\n",
            "Episode:93, Avg Rewards:196.56, Norm of Weights:4.94968843460083\n",
            "Episode:94, Avg Rewards:198.82, Norm of Weights:4.959439277648926\n",
            "Episode:95, Avg Rewards:195.52, Norm of Weights:4.977322101593018\n",
            "Episode:96, Avg Rewards:194.74, Norm of Weights:5.021434307098389\n",
            "Episode:97, Avg Rewards:195.76, Norm of Weights:5.045792102813721\n",
            "Episode:98, Avg Rewards:196.22, Norm of Weights:5.056689262390137\n",
            "Episode:99, Avg Rewards:199.9, Norm of Weights:5.076782703399658\n",
            "Episode:100, Avg Rewards:196.2, Norm of Weights:5.128195762634277\n"
          ],
          "name": "stdout"
        }
      ]
    },
    {
      "metadata": {
        "id": "q3aKm7iv9oKR",
        "colab_type": "code",
        "colab": {
          "base_uri": "https://localhost:8080/",
          "height": 282
        },
        "outputId": "bb0b23ea-2b7a-4f00-b3b7-eb3348e8a88b"
      },
      "cell_type": "code",
      "source": [
        "import matplotlib.pyplot as plt\n",
        "%matplotlib inline\n",
        "plt.plot(avg_rewards)\n"
      ],
      "execution_count": 9,
      "outputs": [
        {
          "output_type": "execute_result",
          "data": {
            "text/plain": [
              "[<matplotlib.lines.Line2D at 0x7ff397bb15c0>]"
            ]
          },
          "metadata": {
            "tags": []
          },
          "execution_count": 9
        },
        {
          "output_type": "display_data",
          "data": {
            "image/png": "[encoded data removed]",
            "text/plain": [
              "<matplotlib.figure.Figure at 0x7ff39e3cef98>"
            ]
          },
          "metadata": {
            "tags": []
          }
        }
      ]
    },
    {
      "metadata": {
        "id": "GBJ_dCP-Lr6f",
        "colab_type": "code",
        "colab": {}
      },
      "cell_type": "code",
      "source": [
        ""
      ],
      "execution_count": 0,
      "outputs": []
    }
  ]
}