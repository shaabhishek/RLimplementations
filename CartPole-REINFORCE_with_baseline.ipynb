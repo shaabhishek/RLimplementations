{
 "cells": [
  {
   "cell_type": "code",
   "execution_count": 1,
   "metadata": {},
   "outputs": [],
   "source": [
    "import os\n",
    "import sys\n",
    "new_path = r'/usr/local/lib/python2.7/dist-packages'\n",
    "sys.path.append(new_path)\n",
    "\n",
    "import gym\n",
    "env = gym.make('CartPole-v0')"
   ]
  },
  {
   "cell_type": "code",
   "execution_count": 2,
   "metadata": {},
   "outputs": [
    {
     "name": "stderr",
     "output_type": "stream",
     "text": [
      "/usr/local/lib/python3.5/dist-packages/h5py/__init__.py:36: FutureWarning: Conversion of the second argument of issubdtype from `float` to `np.floating` is deprecated. In future, it will be treated as `np.float64 == np.dtype(float).type`.\n",
      "  from ._conv import register_converters as _register_converters\n"
     ]
    },
    {
     "data": {
      "text/plain": [
       "[114]"
      ]
     },
     "execution_count": 2,
     "metadata": {},
     "output_type": "execute_result"
    }
   ],
   "source": [
    "import numpy as np\n",
    "import random\n",
    "import tensorflow as tf\n",
    "tf.enable_eager_execution()\n",
    "\n",
    "seed_val = 111\n",
    "np.random.seed(seed_val)\n",
    "random.seed(seed_val+1)\n",
    "tf.set_random_seed(seed_val+2)\n",
    "env.seed(seed_val+3)"
   ]
  },
  {
   "cell_type": "code",
   "execution_count": 3,
   "metadata": {},
   "outputs": [
    {
     "name": "stderr",
     "output_type": "stream",
     "text": [
      "Using TensorFlow backend.\n"
     ]
    }
   ],
   "source": [
    "from collections import deque\n",
    "from keras.models import clone_model\n",
    "# from keras.utils import to_categorical\n",
    "from keras import optimizers"
   ]
  },
  {
   "cell_type": "code",
   "execution_count": 4,
   "metadata": {},
   "outputs": [],
   "source": [
    "def preprocess(img):\n",
    "    return np.reshape(img, (1,4))\n"
   ]
  },
  {
   "cell_type": "code",
   "execution_count": 5,
   "metadata": {},
   "outputs": [],
   "source": [
    "N_ACTIONS = env.action_space.n\n",
    "DIM_STATES = env.observation_space.shape[0]\n",
    "N_EPISODES = 100\n",
    "BATCH_SIZE = 100\n",
    "SGD_BATCH_SIZE = 16\n",
    "TIMESTEP_LIMIT = env.spec.timestep_limit\n",
    "discount_factor = 0.99"
   ]
  },
  {
   "cell_type": "code",
   "execution_count": 6,
   "metadata": {},
   "outputs": [],
   "source": [
    "class PolicyEstimator():\n",
    "  \"\"\"\n",
    "  Policy Function Approximation\n",
    "  \"\"\"\n",
    "  def __init__(self, learning_rate = 0.1):\n",
    "    self.learning_rate = learning_rate\n",
    "    self.pi = self._build_model()\n",
    "    self.grad_init = [tf.zeros_like(theta) for theta in self.pi.get_weights()]\n",
    "  \n",
    "  def _build_model(self):\n",
    "    model = tf.keras.Sequential([\n",
    "#         tf.keras.layers.Dense(16, input_shape=(4,), activation='relu'),\n",
    "#         tf.keras.layers.Dense(16, activation='relu'),\n",
    "        tf.keras.layers.Dense(N_ACTIONS, input_shape=(4,), activation='linear', use_bias=True)\n",
    "    ])\n",
    "    self.optimizer = tf.train.GradientDescentOptimizer(learning_rate=self.learning_rate)\n",
    "    return model\n",
    "  \n",
    "  def select_action(self, state):\n",
    "    return tf.squeeze(tf.multinomial(pi_model.pi(state), 1)).numpy()\n",
    "  \n",
    "  def loss(self, state, action, advantage):\n",
    "    # negative loss because we're maximizing\n",
    "    ## picking the log_probability corresponding to the action taken and\n",
    "    ## scaling it by 'advantage'\n",
    "    pi = tf.nn.softmax(self.pi(state))\n",
    "    return -tf.gather(tf.squeeze(tf.log(pi)), action)*advantage\n",
    "  \n",
    "  def compute_gradient(self, state, action, advantage):\n",
    "    \"\"\"\n",
    "    Compute the gradient at time t\n",
    "    :param state: the state for which pi will be calculated, shape 1 x |S|\n",
    "    :param action: action taken. \n",
    "    :return list of Gradient tensors with length = count(weights)+ count(biases)\n",
    "    \"\"\"\n",
    "    with tf.GradientTape() as tape:\n",
    "      loss_val = self.loss(state, action, advantage)\n",
    "    return tape.gradient(loss_val, self.pi.variables)\n",
    "  \n",
    "  def apply_gradient(self, grads):\n",
    "    \"\"\"\"\"\"\n",
    "    self.optimizer.apply_gradients(zip(grads, self.pi.variables),\n",
    "                                   global_step=tf.train.get_or_create_global_step())\n",
    "\n",
    "\n",
    "pi_model = PolicyEstimator()"
   ]
  },
  {
   "cell_type": "code",
   "execution_count": 7,
   "metadata": {
    "scrolled": false
   },
   "outputs": [
    {
     "name": "stdout",
     "output_type": "stream",
     "text": [
      "Episode:1, Avg Rewards:21.41, Norm of Weights:1.5227712392807007\n",
      "Episode:2, Avg Rewards:23.53, Norm of Weights:1.538309097290039\n",
      "Episode:3, Avg Rewards:29.1, Norm of Weights:1.5573463439941406\n",
      "Episode:4, Avg Rewards:28.57, Norm of Weights:1.5818734169006348\n",
      "Episode:5, Avg Rewards:31.04, Norm of Weights:1.6079233884811401\n",
      "Episode:6, Avg Rewards:30.46, Norm of Weights:1.6373428106307983\n",
      "Episode:7, Avg Rewards:34.2, Norm of Weights:1.6722278594970703\n",
      "Episode:8, Avg Rewards:31.9, Norm of Weights:1.7176741361618042\n",
      "Episode:9, Avg Rewards:39.64, Norm of Weights:1.7195812463760376\n",
      "Episode:10, Avg Rewards:37.74, Norm of Weights:1.7468196153640747\n",
      "Episode:11, Avg Rewards:43.54, Norm of Weights:1.781299352645874\n",
      "Episode:12, Avg Rewards:43.23, Norm of Weights:1.8339778184890747\n",
      "Episode:13, Avg Rewards:44.68, Norm of Weights:1.8843156099319458\n",
      "Episode:14, Avg Rewards:46.3, Norm of Weights:1.9212833642959595\n",
      "Episode:15, Avg Rewards:52.55, Norm of Weights:1.976816177368164\n",
      "Episode:16, Avg Rewards:49.03, Norm of Weights:2.020669937133789\n",
      "Episode:17, Avg Rewards:49.46, Norm of Weights:2.089916706085205\n",
      "Episode:18, Avg Rewards:54.27, Norm of Weights:2.1264078617095947\n",
      "Episode:19, Avg Rewards:60.18, Norm of Weights:2.166548252105713\n",
      "Episode:20, Avg Rewards:58.79, Norm of Weights:2.2259459495544434\n",
      "Episode:21, Avg Rewards:63.98, Norm of Weights:2.3008415699005127\n",
      "Episode:22, Avg Rewards:68.77, Norm of Weights:2.375838041305542\n",
      "Episode:23, Avg Rewards:68.68, Norm of Weights:2.38984751701355\n",
      "Episode:24, Avg Rewards:66.71, Norm of Weights:2.4649181365966797\n",
      "Episode:25, Avg Rewards:78.8, Norm of Weights:2.4878904819488525\n",
      "Episode:26, Avg Rewards:80.21, Norm of Weights:2.5054819583892822\n",
      "Episode:27, Avg Rewards:83.11, Norm of Weights:2.5614311695098877\n",
      "Episode:28, Avg Rewards:88.26, Norm of Weights:2.619889974594116\n",
      "Episode:29, Avg Rewards:97.62, Norm of Weights:2.644929885864258\n",
      "Episode:30, Avg Rewards:99.94, Norm of Weights:2.674732208251953\n",
      "Episode:31, Avg Rewards:108.91, Norm of Weights:2.7393860816955566\n",
      "Episode:32, Avg Rewards:114.34, Norm of Weights:2.8092153072357178\n",
      "Episode:33, Avg Rewards:129.09, Norm of Weights:2.849311113357544\n",
      "Episode:34, Avg Rewards:117.68, Norm of Weights:2.9107248783111572\n",
      "Episode:35, Avg Rewards:138.38, Norm of Weights:2.920600175857544\n",
      "Episode:36, Avg Rewards:131.17, Norm of Weights:2.9530868530273438\n",
      "Episode:37, Avg Rewards:150.42, Norm of Weights:2.9757533073425293\n",
      "Episode:38, Avg Rewards:140.48, Norm of Weights:3.006502389907837\n",
      "Episode:39, Avg Rewards:150.66, Norm of Weights:3.070042610168457\n",
      "Episode:40, Avg Rewards:141.65, Norm of Weights:3.125497579574585\n",
      "Episode:41, Avg Rewards:124.81, Norm of Weights:3.161129951477051\n",
      "Episode:42, Avg Rewards:151.26, Norm of Weights:3.2348155975341797\n",
      "Episode:43, Avg Rewards:168.61, Norm of Weights:3.2468433380126953\n",
      "Episode:44, Avg Rewards:147.99, Norm of Weights:3.293125629425049\n",
      "Episode:45, Avg Rewards:160.78, Norm of Weights:3.3378210067749023\n",
      "Episode:46, Avg Rewards:163.52, Norm of Weights:3.4157638549804688\n",
      "Episode:47, Avg Rewards:168.35, Norm of Weights:3.4799656867980957\n",
      "Episode:48, Avg Rewards:164.08, Norm of Weights:3.564152956008911\n",
      "Episode:49, Avg Rewards:176.03, Norm of Weights:3.5708847045898438\n",
      "Episode:50, Avg Rewards:165.85, Norm of Weights:3.609572649002075\n",
      "Episode:51, Avg Rewards:176.19, Norm of Weights:3.6296842098236084\n",
      "Episode:52, Avg Rewards:171.92, Norm of Weights:3.6455464363098145\n",
      "Episode:53, Avg Rewards:178.93, Norm of Weights:3.7034912109375\n",
      "Episode:54, Avg Rewards:175.66, Norm of Weights:3.7273364067077637\n",
      "Episode:55, Avg Rewards:179.75, Norm of Weights:3.740412712097168\n",
      "Episode:56, Avg Rewards:178.43, Norm of Weights:3.828559160232544\n",
      "Episode:57, Avg Rewards:179.91, Norm of Weights:3.8948121070861816\n",
      "Episode:58, Avg Rewards:179.65, Norm of Weights:3.943829298019409\n",
      "Episode:59, Avg Rewards:185.88, Norm of Weights:3.956787109375\n",
      "Episode:60, Avg Rewards:178.28, Norm of Weights:3.9788014888763428\n",
      "Episode:61, Avg Rewards:169.35, Norm of Weights:3.9912285804748535\n",
      "Episode:62, Avg Rewards:183.95, Norm of Weights:3.989802360534668\n",
      "Episode:63, Avg Rewards:180.18, Norm of Weights:4.030850410461426\n",
      "Episode:64, Avg Rewards:183.54, Norm of Weights:4.052581787109375\n",
      "Episode:65, Avg Rewards:180.96, Norm of Weights:4.057114124298096\n",
      "Episode:66, Avg Rewards:177.56, Norm of Weights:4.096295356750488\n",
      "Episode:67, Avg Rewards:189.81, Norm of Weights:4.1016316413879395\n",
      "Episode:68, Avg Rewards:184.81, Norm of Weights:4.191619396209717\n",
      "Episode:69, Avg Rewards:189.48, Norm of Weights:4.234428882598877\n",
      "Episode:70, Avg Rewards:180.87, Norm of Weights:4.316065311431885\n",
      "Episode:71, Avg Rewards:194.52, Norm of Weights:4.331411838531494\n",
      "Episode:72, Avg Rewards:187.78, Norm of Weights:4.322261810302734\n",
      "Episode:73, Avg Rewards:194.6, Norm of Weights:4.362551212310791\n",
      "Episode:74, Avg Rewards:181.6, Norm of Weights:4.382152557373047\n",
      "Episode:75, Avg Rewards:182.21, Norm of Weights:4.421088695526123\n",
      "Episode:76, Avg Rewards:189.07, Norm of Weights:4.438767433166504\n",
      "Episode:77, Avg Rewards:190.16, Norm of Weights:4.466009616851807\n",
      "Episode:78, Avg Rewards:190.35, Norm of Weights:4.520437717437744\n",
      "Episode:79, Avg Rewards:194.34, Norm of Weights:4.549357891082764\n",
      "Episode:80, Avg Rewards:192.03, Norm of Weights:4.571186542510986\n",
      "Episode:81, Avg Rewards:188.54, Norm of Weights:4.604192733764648\n",
      "Episode:82, Avg Rewards:191.25, Norm of Weights:4.62252140045166\n",
      "Episode:83, Avg Rewards:192.07, Norm of Weights:4.6341872215271\n",
      "Episode:84, Avg Rewards:189.78, Norm of Weights:4.648372173309326\n",
      "Episode:85, Avg Rewards:195.08, Norm of Weights:4.6676225662231445\n",
      "Episode:86, Avg Rewards:190.58, Norm of Weights:4.664313316345215\n",
      "Episode:87, Avg Rewards:194.63, Norm of Weights:4.680692195892334\n",
      "Episode:88, Avg Rewards:191.64, Norm of Weights:4.698533535003662\n",
      "Episode:89, Avg Rewards:194.6, Norm of Weights:4.717984199523926\n",
      "Episode:90, Avg Rewards:188.98, Norm of Weights:4.729722023010254\n",
      "Episode:91, Avg Rewards:193.37, Norm of Weights:4.756851673126221\n",
      "Episode:92, Avg Rewards:196.06, Norm of Weights:4.808444023132324\n",
      "Episode:93, Avg Rewards:194.17, Norm of Weights:4.8394927978515625\n",
      "Episode:94, Avg Rewards:191.97, Norm of Weights:4.851581573486328\n",
      "Episode:95, Avg Rewards:196.13, Norm of Weights:4.862757682800293\n",
      "Episode:96, Avg Rewards:194.17, Norm of Weights:4.87162446975708\n",
      "Episode:97, Avg Rewards:190.02, Norm of Weights:4.887617588043213\n",
      "Episode:98, Avg Rewards:192.7, Norm of Weights:4.9180450439453125\n",
      "Episode:99, Avg Rewards:197.25, Norm of Weights:4.975943565368652\n",
      "Episode:100, Avg Rewards:195.17, Norm of Weights:5.003344535827637\n"
     ]
    }
   ],
   "source": [
    "pi_model = PolicyEstimator()\n",
    "avg_rewards = []\n",
    "for episode in range(1,N_EPISODES+1):\n",
    "  \n",
    "  episode_rewards = []\n",
    "  # copy zero initialized list by value\n",
    "  grad = pi_model.grad_init[:]\n",
    "  all_returns = np.zeros((BATCH_SIZE, TIMESTEP_LIMIT))\n",
    "  rewards = [[] for _ in range(BATCH_SIZE)]\n",
    "  states = [[] for _ in range(BATCH_SIZE)]\n",
    "  actions = [[] for _ in range(BATCH_SIZE)]\n",
    "  \n",
    "  for roll_i in range(BATCH_SIZE):\n",
    "    done = False\n",
    "    cur_state = preprocess(env.reset())\n",
    "    for t in range(TIMESTEP_LIMIT):\n",
    "      action = pi_model.select_action(cur_state)\n",
    "      next_state, reward, done, info = env.step(action)\n",
    "      next_state = preprocess(next_state)\n",
    "      states[roll_i].append(cur_state)\n",
    "      actions[roll_i].append(action)\n",
    "      rewards[roll_i].append(reward)\n",
    "      cur_state = next_state\n",
    "      if done:\n",
    "        episode_rewards.append(np.sum(rewards[roll_i]))\n",
    "        for t_ in range(len(rewards[roll_i])):\n",
    "          all_returns[roll_i,t_] = sum([discount_factor**ix * reward for ix, reward in enumerate(rewards[roll_i][t_:])])\n",
    "        break\n",
    "      \n",
    "  baselines = np.mean(all_returns, axis=0)\n",
    "  advantages = all_returns - baselines\n",
    "    \n",
    "    ## random sampling rollouts for gradient update will lead to a SGD step\n",
    "    ## Here, SGD_BATCH_SIZE = BATCH_SIZE will give vanilla Gradient Descent\n",
    "    ## running the gradient update for all rollouts will be expensive (=vanilla GD)\n",
    "  for roll_i in random.sample(range(BATCH_SIZE), SGD_BATCH_SIZE):\n",
    "#   for roll_i in range(BATCH_SIZE):\n",
    "    for t in range(len(states[roll_i])):\n",
    "#       pi_model.optimizer.minimize(loss=lambda: pi_model.loss(states[roll_i][t], actions[roll_i][t], advantages[roll_i,t]),\n",
    "#                                   global_step=tf.train.get_or_create_global_step())\n",
    "      grad_t = pi_model.compute_gradient(states[roll_i][t], actions[roll_i][t], advantages[roll_i][t])\n",
    "      # grad_t is a list of weights and biases, so do element-wise summation\n",
    "      grad = [grad[i] + grad_t[i] for i in range(len(grad))]\n",
    "  \n",
    "  ## Mean of gradient\n",
    "  grad = [g_i/SGD_BATCH_SIZE for g_i in grad]\n",
    "\n",
    "  ## Normalize the gradient\n",
    "  grad = [g_i/(np.linalg.norm(g_i)+1e-8) for g_i in grad]\n",
    "  pi_model.apply_gradient(grad)  \n",
    "  \n",
    "  avg_rewards.append(np.mean(episode_rewards))\n",
    "  if episode%1 == 0: print(\"Episode:{}, Avg Rewards:{}, Norm of Weights:{}\".format(episode,\n",
    "                                                                                   avg_rewards[-1],\n",
    "                                                                                   np.linalg.norm(pi_model.pi.get_weights()[0])))"
   ]
  },
  {
   "cell_type": "code",
   "execution_count": 8,
   "metadata": {},
   "outputs": [
    {
     "data": {
      "text/plain": [
       "[<matplotlib.lines.Line2D at 0x7fd3fce44048>]"
      ]
     },
     "execution_count": 8,
     "metadata": {},
     "output_type": "execute_result"
    },
    {
     "data": {
      "image/png": "[encoded data removed]",
      "text/plain": [
       "<matplotlib.figure.Figure at 0x7fd4421ca048>"
      ]
     },
     "metadata": {},
     "output_type": "display_data"
    }
   ],
   "source": [
    "import matplotlib.pyplot as plt\n",
    "%matplotlib inline\n",
    "plt.plot(avg_rewards)\n"
   ]
  },
  {
   "cell_type": "code",
   "execution_count": null,
   "metadata": {},
   "outputs": [],
   "source": []
  }
 ],
 "metadata": {
  "kernelspec": {
   "display_name": "Python 3",
   "language": "python",
   "name": "python3"
  },
  "language_info": {
   "codemirror_mode": {
    "name": "ipython",
    "version": 3
   },
   "file_extension": ".py",
   "mimetype": "text/x-python",
   "name": "python",
   "nbconvert_exporter": "python",
   "pygments_lexer": "ipython3",
   "version": "3.5.2"
  }
 },
 "nbformat": 4,
 "nbformat_minor": 2
}
